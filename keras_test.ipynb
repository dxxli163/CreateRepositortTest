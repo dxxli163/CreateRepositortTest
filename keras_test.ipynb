{
 "cells": [
  {
   "cell_type": "code",
   "execution_count": 44,
   "metadata": {},
   "outputs": [],
   "source": [
    "#from tensorflow import keras\n",
    "import tensorflow.keras as keras\n",
    "from tensorflow.keras.datasets import mnist #导入mnist模块\n",
    "#导入tensorflow.keras.datasets下子包mnist,子包中的__init()__文件中包含：\n",
    "#from tensorflow.python.keras.datasets.mnist import load_data\n",
    "#上一句相当于从模块tensorflow.python.keras.datasets.mnist中导入load_data函数。\n",
    "#mnist.py模块文件定义了load_data函数\n",
    "\n",
    "from tensorflow.keras.models import Sequential #导入模块models.py中的Sequrential函数\n",
    "# Sequential 在该models文件夹下单一__init()__文件中：\n",
    "#存在：from tensorflow.python.keras import Sequential。\n",
    "#上一句中，在keras文件夹下(该文件夹下无Sequential.py)的__init()__中，\n",
    "#存在：from tensorflow.python.keras.models import Sequential，该models为模块，即models.py,其中定义了Sequential函数\n",
    "\n",
    "from tensorflow.keras.layers import Dense, Flatten, Conv2D, MaxPooling2D #通过layers包中__init()__文件，引导导入需要的类，函数，或模块\n",
    "#layers包中的__init()__:from tensorflow.python.keras.applications.densenet import Conv2D\n",
    "#densenet.py文件中存在：from tensorflow.python.keras.layers import Conv2D\n",
    "#在上述layers文件夹下的__init()__存在：from tensorflow.python.keras.layers.convolutional import Conv2D\n",
    "#在上述convolutional.py中定义了类Conv2D.\n",
    "#from tensorflow.keras import layers \n",
    "from tensorflow.keras import backend as K "
   ]
  },
  {
   "cell_type": "code",
   "execution_count": 45,
   "metadata": {},
   "outputs": [],
   "source": [
    "num_classes=10\n",
    "img_rows,img_cols=28,28"
   ]
  },
  {
   "cell_type": "code",
   "execution_count": 52,
   "metadata": {},
   "outputs": [],
   "source": [
    "(trainX,trainY), (testX,testY) = mnist.load_data(path='mnist.npz') "
   ]
  },
  {
   "cell_type": "code",
   "execution_count": 53,
   "metadata": {},
   "outputs": [
    {
     "name": "stdout",
     "output_type": "stream",
     "text": [
      "(60000, 28, 28)\n"
     ]
    }
   ],
   "source": [
    "print trainX.shape"
   ]
  },
  {
   "cell_type": "code",
   "execution_count": 54,
   "metadata": {},
   "outputs": [
    {
     "name": "stdout",
     "output_type": "stream",
     "text": [
      "Train on 60000 samples, validate on 10000 samples\n",
      "Epoch 1/20\n",
      "60000/60000 [==============================] - 65s 1ms/step - loss: 1.0359 - acc: 0.7290 - val_loss: 0.3253 - val_acc: 0.9002\n",
      "Epoch 2/20\n",
      "60000/60000 [==============================] - 66s 1ms/step - loss: 0.2654 - acc: 0.9213 - val_loss: 0.2127 - val_acc: 0.9359\n",
      "Epoch 3/20\n",
      "60000/60000 [==============================] - 65s 1ms/step - loss: 0.1880 - acc: 0.9442 - val_loss: 0.1611 - val_acc: 0.9521\n",
      "Epoch 4/20\n",
      "60000/60000 [==============================] - 66s 1ms/step - loss: 0.1475 - acc: 0.9562 - val_loss: 0.1275 - val_acc: 0.9628\n",
      "Epoch 5/20\n",
      "60000/60000 [==============================] - 68s 1ms/step - loss: 0.1225 - acc: 0.9635 - val_loss: 0.1010 - val_acc: 0.9690\n",
      "Epoch 6/20\n",
      "60000/60000 [==============================] - 69s 1ms/step - loss: 0.1052 - acc: 0.9686 - val_loss: 0.0852 - val_acc: 0.9739\n",
      "Epoch 7/20\n",
      "60000/60000 [==============================] - 71s 1ms/step - loss: 0.0935 - acc: 0.9718 - val_loss: 0.0882 - val_acc: 0.9747\n",
      "Epoch 8/20\n",
      "60000/60000 [==============================] - 67s 1ms/step - loss: 0.0849 - acc: 0.9742 - val_loss: 0.0733 - val_acc: 0.9789\n",
      "Epoch 9/20\n",
      "60000/60000 [==============================] - 66s 1ms/step - loss: 0.0776 - acc: 0.9765 - val_loss: 0.0649 - val_acc: 0.9803\n",
      "Epoch 10/20\n",
      "60000/60000 [==============================] - 66s 1ms/step - loss: 0.0711 - acc: 0.9786 - val_loss: 0.0698 - val_acc: 0.9772\n",
      "Epoch 11/20\n",
      "60000/60000 [==============================] - 70s 1ms/step - loss: 0.0667 - acc: 0.9798 - val_loss: 0.0663 - val_acc: 0.9788\n",
      "Epoch 12/20\n",
      "60000/60000 [==============================] - 69s 1ms/step - loss: 0.0626 - acc: 0.9811 - val_loss: 0.0557 - val_acc: 0.9829\n",
      "Epoch 13/20\n",
      "60000/60000 [==============================] - 68s 1ms/step - loss: 0.0586 - acc: 0.9830 - val_loss: 0.0667 - val_acc: 0.9776\n",
      "Epoch 14/20\n",
      "60000/60000 [==============================] - 68s 1ms/step - loss: 0.0555 - acc: 0.9835 - val_loss: 0.0522 - val_acc: 0.9835\n",
      "Epoch 15/20\n",
      "60000/60000 [==============================] - 68s 1ms/step - loss: 0.0526 - acc: 0.9842 - val_loss: 0.0564 - val_acc: 0.9815\n",
      "Epoch 16/20\n",
      "60000/60000 [==============================] - 64s 1ms/step - loss: 0.0500 - acc: 0.9848 - val_loss: 0.0568 - val_acc: 0.9818\n",
      "Epoch 17/20\n",
      "60000/60000 [==============================] - 64s 1ms/step - loss: 0.0479 - acc: 0.9855 - val_loss: 0.0505 - val_acc: 0.9830\n",
      "Epoch 18/20\n",
      "60000/60000 [==============================] - 64s 1ms/step - loss: 0.0456 - acc: 0.9862 - val_loss: 0.0554 - val_acc: 0.9835\n",
      "Epoch 19/20\n",
      "60000/60000 [==============================] - 65s 1ms/step - loss: 0.0440 - acc: 0.9867 - val_loss: 0.0495 - val_acc: 0.9837\n",
      "Epoch 20/20\n",
      "60000/60000 [==============================] - 65s 1ms/step - loss: 0.0420 - acc: 0.9872 - val_loss: 0.0426 - val_acc: 0.9859\n",
      "10000/10000 [==============================] - 5s 460us/step\n",
      "('Test loss :', 0.04256394986237865)\n",
      "('Test accuracy:', 0.9859)\n"
     ]
    }
   ],
   "source": [
    "if K.image_data_format()=='channels_first':\n",
    "    trainX = trainX.reshape(trainX.shape[0],1,img_rows,img_cols)\n",
    "    testX = testX.reshape(testX.shape[0],1,img_rows,img_cols)\n",
    "    #因为 MNIST中的图片是黑白的，所以第一维的取值为1。\n",
    "    input_shape = (1, img_rows, img_cols) \n",
    "else :\n",
    "    trainX = trainX.reshape(trainX.shape[0], img_rows, img_cols, 1) \n",
    "    testX = testX.reshape(testX.shape[0], img_rows , img_cols, 1) \n",
    "    input_shape = (img_rows, img_cols, 1)\n",
    "trainX = trainX.astype('float32') \n",
    "testX = testX.astype('float32') \n",
    "trainX /= 255.0\n",
    "testX /= 255.0 \n",
    "#print trainY.shape\n",
    "trainY = keras.utils.to_categorical(trainY, num_classes)\n",
    "testY = keras.utils.to_categorical(testY, num_classes) \n",
    "#print trainY.shape\n",
    "#使用 Keras API 定义模型。 \n",
    "model = Sequential()\n",
    "#一层深度为32 ，过滤器大小为 5×5 的卷积层\n",
    "model.add(Conv2D(32,kernel_size=(5,5),activation='relu',input_shape=input_shape)) \n",
    "# 一层过滤器大小为2×2的最大池化层\n",
    "model.add(MaxPooling2D(pool_size=(2, 2)))\n",
    "#一层深度为 64 ，过滤器大小为 5×5 的卷积层。 \n",
    "model.add(Conv2D(64,(5, 5), activation ='relu'))\n",
    "#一层过滤器大小为 2×2 的最大池化层。 \n",
    "model.add(MaxPooling2D(pool_size=(2, 2)))\n",
    "#将卷积层的输出拉直后作为下面全连接层的输入。\n",
    "model.add(Flatten())\n",
    "#＃全连接层，有 500 个节点。 \n",
    "model.add(Dense(500, activation='relu')) \n",
    "#全连接层，得到最后的输出。 \n",
    "model.add(Dense(num_classes, activation='softmax')) \n",
    "#定义损失函数、优化函数和评测方法。 \n",
    "model.compile(loss=keras.losses.categorical_crossentropy, optimizer=keras.optimizers.SGD(), metrics=['accuracy'])\n",
    "#类似 TFLearn 中的训练过程，给出训练数据、batch 大小、训练轮数和验证数据， Keras 可以 ＃自动完成模型训练过程。\n",
    "model.fit(trainX, trainY, batch_size=128, epochs=20, validation_data=(testX, testY))\n",
    "#计算准确率\n",
    "score = model.evaluate(testX, testY) \n",
    "print('Test loss :', score[0]) \n",
    "print ('Test accuracy:', score[1]) \n",
    "    "
   ]
  },
  {
   "cell_type": "code",
   "execution_count": 63,
   "metadata": {},
   "outputs": [
    {
     "ename": "TypeError",
     "evalue": "'list' object is not callable",
     "output_type": "error",
     "traceback": [
      "\u001b[0;31m---------------------------------------------------------------------------\u001b[0m",
      "\u001b[0;31mTypeError\u001b[0m                                 Traceback (most recent call last)",
      "\u001b[0;32m<ipython-input-63-14b47af51859>\u001b[0m in \u001b[0;36m<module>\u001b[0;34m()\u001b[0m\n\u001b[1;32m      1\u001b[0m \u001b[0;32mimport\u001b[0m \u001b[0msys\u001b[0m\u001b[0;34m\u001b[0m\u001b[0m\n\u001b[0;32m----> 2\u001b[0;31m \u001b[0;32mprint\u001b[0m \u001b[0msys\u001b[0m\u001b[0;34m.\u001b[0m\u001b[0mpath\u001b[0m\u001b[0;34m(\u001b[0m\u001b[0;34m)\u001b[0m\u001b[0;34m\u001b[0m\u001b[0m\n\u001b[0m",
      "\u001b[0;31mTypeError\u001b[0m: 'list' object is not callable"
     ]
    }
   ],
   "source": []
  },
  {
   "cell_type": "code",
   "execution_count": 64,
   "metadata": {},
   "outputs": [
    {
     "name": "stdout",
     "output_type": "stream",
     "text": [
      "['', '/usr/lib/python2.7', '/usr/lib/python2.7/plat-x86_64-linux-gnu', '/usr/lib/python2.7/lib-tk', '/usr/lib/python2.7/lib-old', '/usr/lib/python2.7/lib-dynload', '/home/deeplearning/.local/lib/python2.7/site-packages', '/usr/local/lib/python2.7/dist-packages', '/usr/lib/python2.7/dist-packages', '/home/deeplearning/.local/lib/python2.7/site-packages/IPython/extensions', '/home/deeplearning/.ipython']\n"
     ]
    }
   ],
   "source": [
    "import sys\n",
    "print sys.path"
   ]
  },
  {
   "cell_type": "code",
   "execution_count": null,
   "metadata": {},
   "outputs": [],
   "source": []
  }
 ],
 "metadata": {
  "kernelspec": {
   "display_name": "Python 2",
   "language": "python",
   "name": "python2"
  },
  "language_info": {
   "codemirror_mode": {
    "name": "ipython",
    "version": 2
   },
   "file_extension": ".py",
   "mimetype": "text/x-python",
   "name": "python",
   "nbconvert_exporter": "python",
   "pygments_lexer": "ipython2",
   "version": "2.7.12"
  }
 },
 "nbformat": 4,
 "nbformat_minor": 2
}
